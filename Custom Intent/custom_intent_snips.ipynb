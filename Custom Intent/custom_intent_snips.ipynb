{
 "cells": [
  {
   "cell_type": "code",
   "execution_count": 1,
   "id": "b67f55d0",
   "metadata": {},
   "outputs": [],
   "source": [
    "import numpy as np\n",
    "import pandas as pd\n",
    "import json\n",
    "import os"
   ]
  },
  {
   "cell_type": "code",
   "execution_count": 2,
   "id": "032a4ba4",
   "metadata": {},
   "outputs": [],
   "source": [
    "df_train = pd.read_csv (r'C:\\Users\\DhanrajChowdhury\\OneDrive - SPIKEWELL\\IntentClassifier\\Custom Intent\\atis_snips\\snips\\train.csv')\n",
    "df_test = pd.read_csv (r'C:\\Users\\DhanrajChowdhury\\OneDrive - SPIKEWELL\\IntentClassifier\\Custom Intent\\atis_snips\\snips\\test.csv')\n",
    "\n",
    "df_train = df_train[df_train[\"intent\"].str.contains(\"#\")==False]\n",
    "df_test = df_test[df_test[\"intent\"].str.contains(\"#\")==False]\n",
    "\n",
    "#df = df_train.append(df_test, ignore_index=True)\n",
    "df = pd.concat([df_train, df_test], ignore_index=True, sort=False)\n",
    "\n",
    "text = df['text']\n",
    "labels = df['intent']\n",
    "\n",
    "classes = np.unique(labels)"
   ]
  },
  {
   "cell_type": "code",
   "execution_count": 3,
   "id": "480950bb",
   "metadata": {},
   "outputs": [
    {
     "name": "stdout",
     "output_type": "stream",
     "text": [
      "                                                    text              intent\n",
      "0       listen to westbam alumb allergic on google music           PlayMusic\n",
      "1             add step to me to the 50 clásicos playlist       AddToPlaylist\n",
      "2      i give this current textbook a rating value of...            RateBook\n",
      "3                   play the song little robin redbreast           PlayMusic\n",
      "4      please add iris dement to my playlist this is ...       AddToPlaylist\n",
      "...                                                  ...                 ...\n",
      "14479          find a tv series called armageddon summer  SearchCreativeWork\n",
      "14480               find politicsnation with al sharpton  SearchCreativeWork\n",
      "14481                  rate this album 0 points out of 6            RateBook\n",
      "14482  add leah kauffman to my uncharted 4 nathan dra...       AddToPlaylist\n",
      "14483                       rate this album two out of 6            RateBook\n",
      "\n",
      "[14484 rows x 2 columns]\n"
     ]
    }
   ],
   "source": [
    "#convert_to_dataframe\n",
    "\n",
    "data = pd.DataFrame({'text': text, 'intent': labels})\n",
    "print(data)"
   ]
  },
  {
   "cell_type": "code",
   "execution_count": 4,
   "id": "142499d3",
   "metadata": {},
   "outputs": [
    {
     "name": "stdout",
     "output_type": "stream",
     "text": [
      "                      text\n",
      "intent                    \n",
      "AddToPlaylist         2042\n",
      "BookRestaurant        2073\n",
      "GetWeather            2100\n",
      "PlayMusic             2100\n",
      "RateBook              2056\n",
      "SearchCreativeWork    2054\n",
      "SearchScreeningEvent  2059\n"
     ]
    },
    {
     "data": {
      "text/plain": [
       "(7, 1)"
      ]
     },
     "execution_count": 4,
     "metadata": {},
     "output_type": "execute_result"
    }
   ],
   "source": [
    "with pd.option_context('display.max_rows', None):\n",
    "    print(data.groupby(\"intent\").count())\n",
    "    \n",
    "data.groupby(\"intent\").count().shape"
   ]
  },
  {
   "cell_type": "code",
   "execution_count": 5,
   "id": "dd4a6232",
   "metadata": {},
   "outputs": [
    {
     "data": {
      "text/plain": [
       "array(['AddToPlaylist', 'BookRestaurant', 'GetWeather', 'PlayMusic',\n",
       "       'RateBook', 'SearchCreativeWork', 'SearchScreeningEvent'],\n",
       "      dtype=object)"
      ]
     },
     "execution_count": 5,
     "metadata": {},
     "output_type": "execute_result"
    }
   ],
   "source": [
    "classes"
   ]
  },
  {
   "cell_type": "code",
   "execution_count": 6,
   "id": "ec8684de",
   "metadata": {},
   "outputs": [],
   "source": [
    "#convert_to_lower_case\n",
    "\n",
    "data[\"lower\"] = data.text.map(lambda x : x.lower())"
   ]
  },
  {
   "cell_type": "code",
   "execution_count": 7,
   "id": "722be446",
   "metadata": {},
   "outputs": [],
   "source": [
    "# import nltk\n",
    "# nltk.download(\"punkt\")\n",
    "# nltk.download(\"stopwords\")\n",
    "# nltk.download(\"wordnet\")\n",
    "# nltk.download('omw-1.4')"
   ]
  },
  {
   "cell_type": "code",
   "execution_count": 8,
   "id": "1aa279d5",
   "metadata": {},
   "outputs": [],
   "source": [
    "#word_tokenize\n",
    "\n",
    "from nltk import word_tokenize\n",
    "\n",
    "data[\"tokenized\"] = data.lower.map(word_tokenize)"
   ]
  },
  {
   "cell_type": "code",
   "execution_count": 9,
   "id": "76f6a0dd",
   "metadata": {},
   "outputs": [],
   "source": [
    "#stopwords_remove\n",
    "\n",
    "from nltk.corpus import stopwords\n",
    "from string import punctuation\n",
    "\n",
    "def remove_stop(strings, stop_list):\n",
    "    classed = [s for s in strings if s not in stop_list]\n",
    "    return classed\n",
    "\n",
    "stop = stopwords.words(\"english\")\n",
    "stop_punc = list(set(punctuation)) + stop\n",
    "\n",
    "data[\"selected\"] = data.tokenized.map(lambda df: remove_stop(df, stop_punc))"
   ]
  },
  {
   "cell_type": "code",
   "execution_count": 10,
   "id": "869deefb",
   "metadata": {
    "scrolled": true
   },
   "outputs": [
    {
     "data": {
      "text/html": [
       "<div>\n",
       "<style scoped>\n",
       "    .dataframe tbody tr th:only-of-type {\n",
       "        vertical-align: middle;\n",
       "    }\n",
       "\n",
       "    .dataframe tbody tr th {\n",
       "        vertical-align: top;\n",
       "    }\n",
       "\n",
       "    .dataframe thead th {\n",
       "        text-align: right;\n",
       "    }\n",
       "</style>\n",
       "<table border=\"1\" class=\"dataframe\">\n",
       "  <thead>\n",
       "    <tr style=\"text-align: right;\">\n",
       "      <th></th>\n",
       "      <th>text</th>\n",
       "      <th>intent</th>\n",
       "      <th>lower</th>\n",
       "      <th>tokenized</th>\n",
       "      <th>selected</th>\n",
       "      <th>lemmatized</th>\n",
       "      <th>normalized</th>\n",
       "    </tr>\n",
       "  </thead>\n",
       "  <tbody>\n",
       "    <tr>\n",
       "      <th>0</th>\n",
       "      <td>listen to westbam alumb allergic on google music</td>\n",
       "      <td>PlayMusic</td>\n",
       "      <td>listen to westbam alumb allergic on google music</td>\n",
       "      <td>[listen, to, westbam, alumb, allergic, on, goo...</td>\n",
       "      <td>[listen, westbam, alumb, allergic, google, music]</td>\n",
       "      <td>[listen, westbam, alumb, allergic, google, music]</td>\n",
       "      <td>listen westbam alumb allergic google music</td>\n",
       "    </tr>\n",
       "    <tr>\n",
       "      <th>1</th>\n",
       "      <td>add step to me to the 50 clásicos playlist</td>\n",
       "      <td>AddToPlaylist</td>\n",
       "      <td>add step to me to the 50 clásicos playlist</td>\n",
       "      <td>[add, step, to, me, to, the, 50, clásicos, pla...</td>\n",
       "      <td>[add, step, 50, clásicos, playlist]</td>\n",
       "      <td>[add, step, 50, clásicos, playlist]</td>\n",
       "      <td>add step 50 clásicos playlist</td>\n",
       "    </tr>\n",
       "    <tr>\n",
       "      <th>2</th>\n",
       "      <td>i give this current textbook a rating value of...</td>\n",
       "      <td>RateBook</td>\n",
       "      <td>i give this current textbook a rating value of...</td>\n",
       "      <td>[i, give, this, current, textbook, a, rating, ...</td>\n",
       "      <td>[give, current, textbook, rating, value, 1, be...</td>\n",
       "      <td>[give, current, textbook, rating, value, 1, be...</td>\n",
       "      <td>give current textbook rating value 1 best rati...</td>\n",
       "    </tr>\n",
       "    <tr>\n",
       "      <th>3</th>\n",
       "      <td>play the song little robin redbreast</td>\n",
       "      <td>PlayMusic</td>\n",
       "      <td>play the song little robin redbreast</td>\n",
       "      <td>[play, the, song, little, robin, redbreast]</td>\n",
       "      <td>[play, song, little, robin, redbreast]</td>\n",
       "      <td>[play, song, little, robin, redbreast]</td>\n",
       "      <td>play song little robin redbreast</td>\n",
       "    </tr>\n",
       "    <tr>\n",
       "      <th>4</th>\n",
       "      <td>please add iris dement to my playlist this is ...</td>\n",
       "      <td>AddToPlaylist</td>\n",
       "      <td>please add iris dement to my playlist this is ...</td>\n",
       "      <td>[please, add, iris, dement, to, my, playlist, ...</td>\n",
       "      <td>[please, add, iris, dement, playlist, selena]</td>\n",
       "      <td>[please, add, iris, dement, playlist, selena]</td>\n",
       "      <td>please add iris dement playlist selena</td>\n",
       "    </tr>\n",
       "    <tr>\n",
       "      <th>...</th>\n",
       "      <td>...</td>\n",
       "      <td>...</td>\n",
       "      <td>...</td>\n",
       "      <td>...</td>\n",
       "      <td>...</td>\n",
       "      <td>...</td>\n",
       "      <td>...</td>\n",
       "    </tr>\n",
       "    <tr>\n",
       "      <th>14479</th>\n",
       "      <td>find a tv series called armageddon summer</td>\n",
       "      <td>SearchCreativeWork</td>\n",
       "      <td>find a tv series called armageddon summer</td>\n",
       "      <td>[find, a, tv, series, called, armageddon, summer]</td>\n",
       "      <td>[find, tv, series, called, armageddon, summer]</td>\n",
       "      <td>[find, tv, series, called, armageddon, summer]</td>\n",
       "      <td>find tv series called armageddon summer</td>\n",
       "    </tr>\n",
       "    <tr>\n",
       "      <th>14480</th>\n",
       "      <td>find politicsnation with al sharpton</td>\n",
       "      <td>SearchCreativeWork</td>\n",
       "      <td>find politicsnation with al sharpton</td>\n",
       "      <td>[find, politicsnation, with, al, sharpton]</td>\n",
       "      <td>[find, politicsnation, al, sharpton]</td>\n",
       "      <td>[find, politicsnation, al, sharpton]</td>\n",
       "      <td>find politicsnation al sharpton</td>\n",
       "    </tr>\n",
       "    <tr>\n",
       "      <th>14481</th>\n",
       "      <td>rate this album 0 points out of 6</td>\n",
       "      <td>RateBook</td>\n",
       "      <td>rate this album 0 points out of 6</td>\n",
       "      <td>[rate, this, album, 0, points, out, of, 6]</td>\n",
       "      <td>[rate, album, 0, points, 6]</td>\n",
       "      <td>[rate, album, 0, point, 6]</td>\n",
       "      <td>rate album 0 point 6</td>\n",
       "    </tr>\n",
       "    <tr>\n",
       "      <th>14482</th>\n",
       "      <td>add leah kauffman to my uncharted 4 nathan dra...</td>\n",
       "      <td>AddToPlaylist</td>\n",
       "      <td>add leah kauffman to my uncharted 4 nathan dra...</td>\n",
       "      <td>[add, leah, kauffman, to, my, uncharted, 4, na...</td>\n",
       "      <td>[add, leah, kauffman, uncharted, 4, nathan, dr...</td>\n",
       "      <td>[add, leah, kauffman, uncharted, 4, nathan, dr...</td>\n",
       "      <td>add leah kauffman uncharted 4 nathan drake pla...</td>\n",
       "    </tr>\n",
       "    <tr>\n",
       "      <th>14483</th>\n",
       "      <td>rate this album two out of 6</td>\n",
       "      <td>RateBook</td>\n",
       "      <td>rate this album two out of 6</td>\n",
       "      <td>[rate, this, album, two, out, of, 6]</td>\n",
       "      <td>[rate, album, two, 6]</td>\n",
       "      <td>[rate, album, two, 6]</td>\n",
       "      <td>rate album two 6</td>\n",
       "    </tr>\n",
       "  </tbody>\n",
       "</table>\n",
       "<p>14484 rows × 7 columns</p>\n",
       "</div>"
      ],
      "text/plain": [
       "                                                    text              intent  \\\n",
       "0       listen to westbam alumb allergic on google music           PlayMusic   \n",
       "1             add step to me to the 50 clásicos playlist       AddToPlaylist   \n",
       "2      i give this current textbook a rating value of...            RateBook   \n",
       "3                   play the song little robin redbreast           PlayMusic   \n",
       "4      please add iris dement to my playlist this is ...       AddToPlaylist   \n",
       "...                                                  ...                 ...   \n",
       "14479          find a tv series called armageddon summer  SearchCreativeWork   \n",
       "14480               find politicsnation with al sharpton  SearchCreativeWork   \n",
       "14481                  rate this album 0 points out of 6            RateBook   \n",
       "14482  add leah kauffman to my uncharted 4 nathan dra...       AddToPlaylist   \n",
       "14483                       rate this album two out of 6            RateBook   \n",
       "\n",
       "                                                   lower  \\\n",
       "0       listen to westbam alumb allergic on google music   \n",
       "1             add step to me to the 50 clásicos playlist   \n",
       "2      i give this current textbook a rating value of...   \n",
       "3                   play the song little robin redbreast   \n",
       "4      please add iris dement to my playlist this is ...   \n",
       "...                                                  ...   \n",
       "14479          find a tv series called armageddon summer   \n",
       "14480               find politicsnation with al sharpton   \n",
       "14481                  rate this album 0 points out of 6   \n",
       "14482  add leah kauffman to my uncharted 4 nathan dra...   \n",
       "14483                       rate this album two out of 6   \n",
       "\n",
       "                                               tokenized  \\\n",
       "0      [listen, to, westbam, alumb, allergic, on, goo...   \n",
       "1      [add, step, to, me, to, the, 50, clásicos, pla...   \n",
       "2      [i, give, this, current, textbook, a, rating, ...   \n",
       "3            [play, the, song, little, robin, redbreast]   \n",
       "4      [please, add, iris, dement, to, my, playlist, ...   \n",
       "...                                                  ...   \n",
       "14479  [find, a, tv, series, called, armageddon, summer]   \n",
       "14480         [find, politicsnation, with, al, sharpton]   \n",
       "14481         [rate, this, album, 0, points, out, of, 6]   \n",
       "14482  [add, leah, kauffman, to, my, uncharted, 4, na...   \n",
       "14483               [rate, this, album, two, out, of, 6]   \n",
       "\n",
       "                                                selected  \\\n",
       "0      [listen, westbam, alumb, allergic, google, music]   \n",
       "1                    [add, step, 50, clásicos, playlist]   \n",
       "2      [give, current, textbook, rating, value, 1, be...   \n",
       "3                 [play, song, little, robin, redbreast]   \n",
       "4          [please, add, iris, dement, playlist, selena]   \n",
       "...                                                  ...   \n",
       "14479     [find, tv, series, called, armageddon, summer]   \n",
       "14480               [find, politicsnation, al, sharpton]   \n",
       "14481                        [rate, album, 0, points, 6]   \n",
       "14482  [add, leah, kauffman, uncharted, 4, nathan, dr...   \n",
       "14483                              [rate, album, two, 6]   \n",
       "\n",
       "                                              lemmatized  \\\n",
       "0      [listen, westbam, alumb, allergic, google, music]   \n",
       "1                    [add, step, 50, clásicos, playlist]   \n",
       "2      [give, current, textbook, rating, value, 1, be...   \n",
       "3                 [play, song, little, robin, redbreast]   \n",
       "4          [please, add, iris, dement, playlist, selena]   \n",
       "...                                                  ...   \n",
       "14479     [find, tv, series, called, armageddon, summer]   \n",
       "14480               [find, politicsnation, al, sharpton]   \n",
       "14481                         [rate, album, 0, point, 6]   \n",
       "14482  [add, leah, kauffman, uncharted, 4, nathan, dr...   \n",
       "14483                              [rate, album, two, 6]   \n",
       "\n",
       "                                              normalized  \n",
       "0             listen westbam alumb allergic google music  \n",
       "1                          add step 50 clásicos playlist  \n",
       "2      give current textbook rating value 1 best rati...  \n",
       "3                       play song little robin redbreast  \n",
       "4                 please add iris dement playlist selena  \n",
       "...                                                  ...  \n",
       "14479            find tv series called armageddon summer  \n",
       "14480                    find politicsnation al sharpton  \n",
       "14481                               rate album 0 point 6  \n",
       "14482  add leah kauffman uncharted 4 nathan drake pla...  \n",
       "14483                                   rate album two 6  \n",
       "\n",
       "[14484 rows x 7 columns]"
      ]
     },
     "execution_count": 10,
     "metadata": {},
     "output_type": "execute_result"
    }
   ],
   "source": [
    "#normalize\n",
    "\n",
    "from nltk.stem import PorterStemmer, SnowballStemmer, LancasterStemmer\n",
    "from nltk.stem import WordNetLemmatizer\n",
    "  \n",
    "lemmatizer = WordNetLemmatizer()\n",
    "\n",
    "def normalize(text):\n",
    "    return \" \".join(text)\n",
    "\n",
    "stemmer = LancasterStemmer()\n",
    "\n",
    "data[\"lemmatized\"] = data.selected.map(lambda xs: [lemmatizer.lemmatize(x) for x in xs])\n",
    "data[\"normalized\"] = data.lemmatized.apply(normalize)\n",
    "\n",
    "data"
   ]
  },
  {
   "cell_type": "code",
   "execution_count": 11,
   "id": "639f27ac",
   "metadata": {},
   "outputs": [],
   "source": [
    "#train_test_split\n",
    "\n",
    "from sklearn.model_selection import train_test_split\n",
    "\n",
    "train_data, test_data = train_test_split(data, test_size = 0.15, random_state = 5)"
   ]
  },
  {
   "cell_type": "code",
   "execution_count": 12,
   "id": "0c4b77de",
   "metadata": {},
   "outputs": [],
   "source": [
    "#tf_tokenize\n",
    "\n",
    "from tensorflow.keras.preprocessing.text import Tokenizer\n",
    "\n",
    "max_num_words = 10030\n",
    "\n",
    "tokenizer = Tokenizer(num_words = max_num_words)\n",
    "tokenizer.fit_on_texts(train_data.normalized)\n",
    "\n",
    "word_index = tokenizer.word_index\n",
    "\n",
    "tokenized_train = tokenizer.texts_to_sequences(train_data.normalized)\n",
    "tokenized_test = tokenizer.texts_to_sequences(test_data.normalized)"
   ]
  },
  {
   "cell_type": "code",
   "execution_count": 13,
   "id": "aad6a258",
   "metadata": {},
   "outputs": [
    {
     "data": {
      "text/plain": [
       "10027"
      ]
     },
     "execution_count": 13,
     "metadata": {},
     "output_type": "execute_result"
    }
   ],
   "source": [
    "len(word_index)"
   ]
  },
  {
   "cell_type": "code",
   "execution_count": 15,
   "id": "4f24b63a",
   "metadata": {
    "scrolled": true
   },
   "outputs": [
    {
     "data": {
      "text/plain": [
       "22"
      ]
     },
     "execution_count": 15,
     "metadata": {},
     "output_type": "execute_result"
    }
   ],
   "source": [
    "#max_len_of_sentences\n",
    "\n",
    "maxLen = 0\n",
    "for t in tokenized_train+tokenized_test:\n",
    "    if len(t) > maxLen:\n",
    "        maxLen = len(t)\n",
    "\n",
    "maxLen"
   ]
  },
  {
   "cell_type": "code",
   "execution_count": 16,
   "id": "eb916ac0",
   "metadata": {},
   "outputs": [],
   "source": [
    "#padding\n",
    "\n",
    "from tensorflow.keras.preprocessing.sequence import pad_sequences\n",
    "\n",
    "train_padded = pad_sequences(tokenized_train, maxlen = maxLen, padding = \"post\")\n",
    "test_padded = pad_sequences(tokenized_test, maxlen = maxLen, padding = \"post\")"
   ]
  },
  {
   "cell_type": "code",
   "execution_count": 17,
   "id": "b690f663",
   "metadata": {},
   "outputs": [
    {
     "name": "stdout",
     "output_type": "stream",
     "text": [
      "(12311, 22) (2173, 22)\n"
     ]
    }
   ],
   "source": [
    "print(train_padded.shape, test_padded.shape)"
   ]
  },
  {
   "cell_type": "code",
   "execution_count": 17,
   "id": "300248fd",
   "metadata": {},
   "outputs": [],
   "source": [
    "#one_hot_encoded_x\n",
    "\n",
    "def transform_x(data, tokenizer):\n",
    "    output_shape = [data.shape[0],\n",
    "                  data.shape[1],\n",
    "                  tokenizer.word_index.keys().__len__()]\n",
    "    results = np.zeros(output_shape)\n",
    "    \n",
    "    for i in range(data.shape[0]):\n",
    "        for ii in range(data.shape[1]):\n",
    "            results[i, ii, data[i,ii]-1]= 1\n",
    "    return results\n",
    "\n",
    "xtr_transformed = transform_x(train_padded, tokenizer)\n",
    "xts_transformed = transform_x(test_padded, tokenizer)"
   ]
  },
  {
   "cell_type": "code",
   "execution_count": 18,
   "id": "610c6ee2",
   "metadata": {},
   "outputs": [
    {
     "data": {
      "text/plain": [
       "(12311, 22, 10027)"
      ]
     },
     "execution_count": 18,
     "metadata": {},
     "output_type": "execute_result"
    }
   ],
   "source": [
    "xtr_transformed.shape"
   ]
  },
  {
   "cell_type": "code",
   "execution_count": 19,
   "id": "b92edc4e",
   "metadata": {},
   "outputs": [],
   "source": [
    "#one_hot_encoded_y\n",
    "\n",
    "from sklearn.preprocessing import OneHotEncoder as OHE\n",
    "\n",
    "y_encoder = OHE().fit(np.array(train_data.intent).reshape(-1,1))\n",
    "\n",
    "ytr_encoded = y_encoder.transform(np.array(train_data.intent).reshape(-1,1)).toarray()\n",
    "yts_encoded = y_encoder.transform(np.array(test_data.intent).reshape(-1,1)).toarray()"
   ]
  },
  {
   "cell_type": "code",
   "execution_count": 20,
   "id": "3f734911",
   "metadata": {},
   "outputs": [
    {
     "data": {
      "text/plain": [
       "(12311, 7)"
      ]
     },
     "execution_count": 20,
     "metadata": {},
     "output_type": "execute_result"
    }
   ],
   "source": [
    "ytr_encoded.shape"
   ]
  },
  {
   "cell_type": "code",
   "execution_count": 21,
   "id": "cea4a37a",
   "metadata": {},
   "outputs": [],
   "source": [
    "embeddings_index={}\n",
    "with open('glove.6B.100d.txt', encoding='utf8') as f:\n",
    "    for line in f:\n",
    "        values = line.split()\n",
    "        word = values[0]\n",
    "        coefs = np.asarray(values[1:], dtype='float32')\n",
    "        embeddings_index[word] = coefs"
   ]
  },
  {
   "cell_type": "code",
   "execution_count": 22,
   "id": "263bf676",
   "metadata": {},
   "outputs": [
    {
     "name": "stderr",
     "output_type": "stream",
     "text": [
      "C:\\ProgramData\\Anaconda3\\lib\\site-packages\\IPython\\core\\interactiveshell.py:3309: FutureWarning: arrays to stack must be passed as a \"sequence\" type such as list or tuple. Support for non-sequence iterables such as generators is deprecated as of NumPy 1.16 and will raise an error in the future.\n",
      "  if await self.run_code(code, result, async_=asy):\n"
     ]
    }
   ],
   "source": [
    "all_embs = np.stack(embeddings_index.values())\n",
    "emb_mean,emb_std = all_embs.mean(), all_embs.std()\n",
    "num_words = min(max_num_words, len(word_index))+1\n",
    "embedding_dim=len(embeddings_index['the'])\n",
    "embedding_matrix = np.random.normal(emb_mean, emb_std, (num_words, embedding_dim))\n",
    "for word, i in word_index.items():\n",
    "    if i >= max_num_words:\n",
    "        break\n",
    "    embedding_vector = embeddings_index.get(word)\n",
    "    if embedding_vector is not None:\n",
    "        embedding_matrix[i] = embedding_vector"
   ]
  },
  {
   "cell_type": "code",
   "execution_count": 23,
   "id": "3f619b81",
   "metadata": {},
   "outputs": [],
   "source": [
    "# #CNN\n",
    "\n",
    "# import tensorflow as tf\n",
    "# from tensorflow.keras.layers import Input, Embedding, Dense, Flatten, Dropout\n",
    "# from tensorflow.keras.models import Model, Sequential\n",
    "# from tensorflow.keras.layers import Conv1D, MaxPooling1D\n",
    "\n",
    "# embedding_layer = Embedding(num_words, embedding_matrix.shape[1], input_length=train_padded.shape[1], trainable=True)\n",
    "\n",
    "# sequence_input = Input(shape=(train_padded.shape[1],), dtype='int32')\n",
    "# embedded_sequences = embedding_layer(sequence_input)\n",
    "# x = Conv1D(64, 3, activation='relu')(embedded_sequences)\n",
    "# x = Conv1D(64, 3, activation='relu')(x)\n",
    "# x = MaxPooling1D(2)(x)\n",
    "# x = Flatten()(x)\n",
    "# x = Dense(100, activation='relu')(x)\n",
    "# preds = Dense(ytr_encoded.shape[1], activation='softmax')(x)\n",
    "# model = Model(sequence_input, preds)\n",
    "\n",
    "# model.compile(loss=\"categorical_crossentropy\", optimizer='adam', metrics=['accuracy'])"
   ]
  },
  {
   "cell_type": "code",
   "execution_count": 24,
   "id": "2f64e89d",
   "metadata": {},
   "outputs": [],
   "source": [
    "# #Regular LSTM\n",
    "\n",
    "# from tensorflow.keras.layers import Input, Embedding, LSTM, Dense\n",
    "# from tensorflow.keras.models import Sequential\n",
    "\n",
    "# model = Sequential()\n",
    "\n",
    "# model.add(Embedding(num_words, embedding_matrix.shape[1], input_length=train_padded.shape[1],\n",
    "#           trainable=False, weights=[embedding_matrix]))\n",
    "\n",
    "# model.add(LSTM(256, return_sequences=True))\n",
    "# model.add(LSTM(128, return_sequences=False))\n",
    "# model.add(Dense(256, activation = \"relu\"))\n",
    "# model.add(Dense(128, activation = \"relu\"))\n",
    "# model.add(Dense(ytr_encoded.shape[1], activation = \"softmax\"))\n",
    "\n",
    "# model.compile(loss=\"categorical_crossentropy\", optimizer='adam', metrics=['accuracy'])"
   ]
  },
  {
   "cell_type": "code",
   "execution_count": 25,
   "id": "8e928793",
   "metadata": {},
   "outputs": [],
   "source": [
    "# #Bidirectional LSTM\n",
    "\n",
    "# import tensorflow as tf\n",
    "# from tensorflow.python.keras.models import Sequential\n",
    "# from keras.layers import Dense, Input, Dropout, LSTM, Activation, Bidirectional, Embedding\n",
    "\n",
    "# model = Sequential()\n",
    "\n",
    "# model.add(Embedding(num_words, embedding_matrix.shape[1], input_length=train_padded.shape[1],\n",
    "#           trainable=False, weights=[embedding_matrix]))\n",
    "\n",
    "# model.add(Bidirectional(LSTM(256, return_sequences=True)))\n",
    "# model.add(LSTM(128, return_sequences=False))\n",
    "# model.add(Dense(256, activation = \"relu\"))\n",
    "# model.add(Dense(128, activation = \"relu\"))\n",
    "# model.add(Dense(ytr_encoded.shape[1], activation = \"softmax\"))\n",
    "\n",
    "\n",
    "# model.compile(loss='categorical_crossentropy', optimizer='Nadam', metrics=['accuracy'])"
   ]
  },
  {
   "cell_type": "code",
   "execution_count": 26,
   "id": "75dbfc86",
   "metadata": {},
   "outputs": [],
   "source": [
    "# #Bidirectional LSTM with Regularization\n",
    "\n",
    "# import tensorflow as tf\n",
    "# from tensorflow.python.keras.models import Sequential\n",
    "# from keras.layers import Dense, Input, Dropout, LSTM, Activation, Bidirectional, Embedding\n",
    "\n",
    "# model = Sequential()\n",
    "\n",
    "# model.add(Embedding(num_words, embedding_matrix.shape[1], input_length=train_padded.shape[1], \n",
    "#           trainable=False, weights=[embedding_matrix]))\n",
    "    \n",
    "# model.add(Bidirectional(LSTM(256, return_sequences=True)))\n",
    "# model.add(LSTM(128, return_sequences=False))\n",
    "# model.add(Dense(256, activation = \"relu\", kernel_regularizer ='l1'))\n",
    "# model.add(Dense(128, activation = \"relu\", kernel_regularizer ='l1'))\n",
    "# model.add(Dense(ytr_encoded.shape[1], activation = \"softmax\"))\n",
    "\n",
    "\n",
    "# model.compile(loss=\"categorical_crossentropy\", optimizer=\"Nadam\", metrics=[\"accuracy\"])"
   ]
  },
  {
   "cell_type": "code",
   "execution_count": 27,
   "id": "339dfaa3",
   "metadata": {},
   "outputs": [],
   "source": [
    "# #Bidirectional LSTM with Regularization and Dropout\n",
    "\n",
    "# import tensorflow as tf\n",
    "# from tensorflow.python.keras.models import Sequential\n",
    "# from keras.layers import Dense, Input, Dropout, LSTM, Activation, Bidirectional, Embedding\n",
    "\n",
    "# model = Sequential()\n",
    "\n",
    "# model.add(Embedding(num_words, embedding_matrix.shape[1], input_length=train_padded.shape[1], \n",
    "#                     trainable=False, weights=[embedding_matrix]))\n",
    "    \n",
    "# model.add(Bidirectional(LSTM(256, return_sequences=True)))\n",
    "# model.add(Dropout(0.3))\n",
    "# model.add(LSTM(128, return_sequences=False))\n",
    "# model.add(Dense(256, activation = \"relu\", kernel_regularizer ='l2'))\n",
    "# model.add(Dense(128, activation = \"relu\", kernel_regularizer ='l2'))\n",
    "# model.add(Dropout(0.3))\n",
    "# model.add(Dense(ytr_encoded.shape[1], activation = \"softmax\"))\n",
    "\n",
    "\n",
    "# model.compile(loss=\"categorical_crossentropy\", optimizer=\"Nadam\", metrics=[\"accuracy\"])"
   ]
  },
  {
   "cell_type": "code",
   "execution_count": 28,
   "id": "884ea97a",
   "metadata": {},
   "outputs": [],
   "source": [
    "#Bidirectional LSTM and Dropout(with Decaying LR)\n",
    "\n",
    "import tensorflow as tf\n",
    "from tensorflow.python.keras.models import Sequential\n",
    "from keras.layers import Dense, Input, Dropout, LSTM, CuDNNLSTM, Activation, Bidirectional, Embedding, BatchNormalization\n",
    "\n",
    "model = Sequential()\n",
    "\n",
    "model.add(Embedding(num_words, embedding_matrix.shape[1], input_length=train_padded.shape[1], \n",
    "                    trainable=False, weights=[embedding_matrix]))\n",
    "    \n",
    "model.add(Bidirectional(CuDNNLSTM(256, return_sequences=True)))\n",
    "model.add(Dropout(0.2))\n",
    "model.add(BatchNormalization())\n",
    "\n",
    "model.add(CuDNNLSTM(128, return_sequences=False))\n",
    "model.add(BatchNormalization())\n",
    "\n",
    "model.add(Dense(256, activation = \"relu\"))\n",
    "\n",
    "model.add(Dense(128, activation = \"relu\"))\n",
    "model.add(Dropout(0.2))\n",
    "\n",
    "model.add(Dense(ytr_encoded.shape[1], activation = \"softmax\"))\n",
    "\n",
    "\n",
    "model.compile(loss=\"categorical_crossentropy\", optimizer=\"Nadam\", metrics=[\"accuracy\"])"
   ]
  },
  {
   "cell_type": "code",
   "execution_count": 29,
   "id": "7b1e2518",
   "metadata": {},
   "outputs": [],
   "source": [
    "import math\n",
    "from tensorflow.keras.callbacks import TensorBoard, ModelCheckpoint, LearningRateScheduler\n",
    "\n",
    "# tensorboard\n",
    "log_dir = os.path.join('logs')\n",
    "tb_callback = TensorBoard(log_dir=log_dir)\n",
    "\n",
    "# checkpoint\n",
    "filepath=\"models/weights-improvement-{epoch:02d}-{accuracy:.2f}.ckpt\"\n",
    "checkpoint = ModelCheckpoint(filepath, monitor='accuracy', verbose=1,\n",
    "                             save_weights_only=True, save_best_only=True, mode='max')\n",
    "\n",
    "# lr_scheduler\n",
    "def step_decay(epoch):\n",
    "    initial_lrate = 0.002\n",
    "    drop = 0.5\n",
    "    epochs_drop = 4.0\n",
    "    \n",
    "    lrate = initial_lrate * math.pow(drop, math.floor((epoch)/epochs_drop))\n",
    "    print(\"lr:\", lrate)\n",
    "    \n",
    "    return lrate\n",
    "    \n",
    "#     if lrate >= 0.0000125:\n",
    "#         return lrate\n",
    "#     else:\n",
    "#         return 0.0000125\n",
    "\n",
    "lrate = LearningRateScheduler(step_decay)\n",
    "\n",
    "callbacks_list = [lrate, tb_callback]"
   ]
  },
  {
   "cell_type": "code",
   "execution_count": 30,
   "id": "3f11ee51",
   "metadata": {
    "scrolled": true
   },
   "outputs": [
    {
     "name": "stdout",
     "output_type": "stream",
     "text": [
      "WARNING:tensorflow:Model failed to serialize as JSON. Ignoring... Layer ModuleWrapper has arguments in `__init__` and therefore must override `get_config`.\n",
      "Epoch 1/20\n",
      "lr: 0.002\n",
      "174/174 [==============================] - 30s 145ms/step - loss: 0.3949 - accuracy: 0.8653 - val_loss: 0.3260 - val_accuracy: 0.8985\n",
      "Epoch 2/20\n",
      "lr: 0.002\n",
      "174/174 [==============================] - 24s 136ms/step - loss: 0.1406 - accuracy: 0.9588 - val_loss: 0.3826 - val_accuracy: 0.9002\n",
      "Epoch 3/20\n",
      "lr: 0.002\n",
      "174/174 [==============================] - 24s 138ms/step - loss: 0.1059 - accuracy: 0.9688 - val_loss: 0.1350 - val_accuracy: 0.9602\n",
      "Epoch 4/20\n",
      "lr: 0.002\n",
      "174/174 [==============================] - 24s 139ms/step - loss: 0.0883 - accuracy: 0.9735 - val_loss: 0.2192 - val_accuracy: 0.9302\n",
      "Epoch 5/20\n",
      "lr: 0.001\n",
      "174/174 [==============================] - 24s 138ms/step - loss: 0.0587 - accuracy: 0.9815 - val_loss: 0.2826 - val_accuracy: 0.9075\n",
      "Epoch 6/20\n",
      "lr: 0.001\n",
      "174/174 [==============================] - 23s 132ms/step - loss: 0.0492 - accuracy: 0.9833 - val_loss: 0.1119 - val_accuracy: 0.9635\n",
      "Epoch 7/20\n",
      "lr: 0.001\n",
      "174/174 [==============================] - 23s 134ms/step - loss: 0.0426 - accuracy: 0.9864 - val_loss: 0.1001 - val_accuracy: 0.9708\n",
      "Epoch 8/20\n",
      "lr: 0.001\n",
      "174/174 [==============================] - 24s 136ms/step - loss: 0.0344 - accuracy: 0.9886 - val_loss: 0.0929 - val_accuracy: 0.9740\n",
      "Epoch 9/20\n",
      "lr: 0.0005\n",
      "174/174 [==============================] - 24s 135ms/step - loss: 0.0206 - accuracy: 0.9937 - val_loss: 0.1046 - val_accuracy: 0.9716\n",
      "Epoch 10/20\n",
      "lr: 0.0005\n",
      "174/174 [==============================] - 24s 135ms/step - loss: 0.0182 - accuracy: 0.9949 - val_loss: 0.0947 - val_accuracy: 0.9740\n",
      "Epoch 11/20\n",
      "lr: 0.0005\n",
      "174/174 [==============================] - 24s 135ms/step - loss: 0.0147 - accuracy: 0.9946 - val_loss: 0.1299 - val_accuracy: 0.9659\n",
      "Epoch 12/20\n",
      "lr: 0.0005\n",
      "174/174 [==============================] - 24s 135ms/step - loss: 0.0163 - accuracy: 0.9945 - val_loss: 0.1388 - val_accuracy: 0.9667\n",
      "Epoch 13/20\n",
      "lr: 0.00025\n",
      "174/174 [==============================] - 24s 135ms/step - loss: 0.0102 - accuracy: 0.9970 - val_loss: 0.1156 - val_accuracy: 0.9756\n",
      "Epoch 14/20\n",
      "lr: 0.00025\n",
      "174/174 [==============================] - 24s 135ms/step - loss: 0.0086 - accuracy: 0.9980 - val_loss: 0.1224 - val_accuracy: 0.9773\n",
      "Epoch 15/20\n",
      "lr: 0.00025\n",
      "174/174 [==============================] - 23s 135ms/step - loss: 0.0094 - accuracy: 0.9970 - val_loss: 0.1156 - val_accuracy: 0.9740\n",
      "Epoch 16/20\n",
      "lr: 0.00025\n",
      "174/174 [==============================] - 24s 137ms/step - loss: 0.0090 - accuracy: 0.9977 - val_loss: 0.1280 - val_accuracy: 0.9732\n",
      "Epoch 17/20\n",
      "lr: 0.000125\n",
      "174/174 [==============================] - 22s 129ms/step - loss: 0.0052 - accuracy: 0.9987 - val_loss: 0.1151 - val_accuracy: 0.9748\n",
      "Epoch 18/20\n",
      "lr: 0.000125\n",
      "174/174 [==============================] - 24s 136ms/step - loss: 0.0046 - accuracy: 0.9990 - val_loss: 0.1147 - val_accuracy: 0.9756\n",
      "Epoch 19/20\n",
      "lr: 0.000125\n",
      "174/174 [==============================] - 23s 132ms/step - loss: 0.0042 - accuracy: 0.9989 - val_loss: 0.1178 - val_accuracy: 0.9732\n",
      "Epoch 20/20\n",
      "lr: 0.000125\n",
      "174/174 [==============================] - 24s 136ms/step - loss: 0.0043 - accuracy: 0.9989 - val_loss: 0.1363 - val_accuracy: 0.9756\n"
     ]
    }
   ],
   "source": [
    "import tensorflow as tf\n",
    "\n",
    "with tf.device('/cpu:0'):\n",
    "    history = model.fit(train_padded, ytr_encoded, epochs = 20,\n",
    "          batch_size = 64, shuffle=True,\n",
    "          validation_split = 0.1, callbacks = callbacks_list)\n",
    "#with tf.device('/device:GPU:0'):"
   ]
  },
  {
   "cell_type": "code",
   "execution_count": 31,
   "id": "821f8846",
   "metadata": {
    "scrolled": false
   },
   "outputs": [
    {
     "name": "stdout",
     "output_type": "stream",
     "text": [
      "Model: \"sequential\"\n",
      "_________________________________________________________________\n",
      "Layer (type)                 Output Shape              Param #   \n",
      "=================================================================\n",
      "module_wrapper (ModuleWrappe (None, 22, 100)           1000100   \n",
      "_________________________________________________________________\n",
      "module_wrapper_1 (ModuleWrap (None, 22, 512)           733184    \n",
      "_________________________________________________________________\n",
      "module_wrapper_2 (ModuleWrap (None, 22, 512)           0         \n",
      "_________________________________________________________________\n",
      "module_wrapper_3 (ModuleWrap (None, 22, 512)           2048      \n",
      "_________________________________________________________________\n",
      "module_wrapper_4 (ModuleWrap (None, 128)               328704    \n",
      "_________________________________________________________________\n",
      "module_wrapper_5 (ModuleWrap (None, 128)               512       \n",
      "_________________________________________________________________\n",
      "module_wrapper_6 (ModuleWrap (None, 256)               33024     \n",
      "_________________________________________________________________\n",
      "module_wrapper_7 (ModuleWrap (None, 128)               32896     \n",
      "_________________________________________________________________\n",
      "module_wrapper_8 (ModuleWrap (None, 128)               0         \n",
      "_________________________________________________________________\n",
      "module_wrapper_9 (ModuleWrap (None, 7)                 903       \n",
      "=================================================================\n",
      "Total params: 2,131,371\n",
      "Trainable params: 1,129,991\n",
      "Non-trainable params: 1,001,380\n",
      "_________________________________________________________________\n"
     ]
    }
   ],
   "source": [
    "model.summary()"
   ]
  },
  {
   "cell_type": "code",
   "execution_count": 32,
   "id": "58113725",
   "metadata": {},
   "outputs": [],
   "source": [
    "# import tensorflow as tf\n",
    "\n",
    "# with tf.device('/cpu:0'):\n",
    "#     history = model.fit(train_padded, ytr_encoded, epochs = 5,\n",
    "#           batch_size = 64, shuffle=True,\n",
    "#           validation_split = 0.15)\n",
    "# #with tf.device('/device:GPU:0'):"
   ]
  },
  {
   "cell_type": "code",
   "execution_count": 33,
   "id": "943d31c5",
   "metadata": {},
   "outputs": [
    {
     "data": {
      "image/png": "[encoded data removed]",
      "text/plain": [
       "<Figure size 432x288 with 1 Axes>"
      ]
     },
     "metadata": {
      "needs_background": "light"
     },
     "output_type": "display_data"
    }
   ],
   "source": [
    "import matplotlib.pyplot as plt\n",
    "%matplotlib inline\n",
    "plt.plot(history.history['accuracy'])\n",
    "plt.plot(history.history['val_accuracy'])\n",
    "plt.title('Model Accuracy')\n",
    "plt.ylabel('Accuracy')\n",
    "plt.xlabel('Epoch')\n",
    "plt.legend(['Train', 'Validation'], loc='upper left')\n",
    "plt.show()"
   ]
  },
  {
   "cell_type": "code",
   "execution_count": 34,
   "id": "0ac8ad11",
   "metadata": {},
   "outputs": [
    {
     "data": {
      "image/png": "[encoded data removed]",
      "text/plain": [
       "<Figure size 432x288 with 1 Axes>"
      ]
     },
     "metadata": {
      "needs_background": "light"
     },
     "output_type": "display_data"
    }
   ],
   "source": [
    "import matplotlib.pyplot as plt\n",
    "%matplotlib inline\n",
    "plt.plot(history.history['loss'])\n",
    "plt.plot(history.history['val_loss'])\n",
    "plt.title('Model Loss')\n",
    "plt.ylabel('Loss')\n",
    "plt.xlabel('Epoch')\n",
    "plt.legend(['Train', 'Validation'], loc='upper left')\n",
    "plt.show()"
   ]
  },
  {
   "cell_type": "code",
   "execution_count": 35,
   "id": "19b5096f",
   "metadata": {},
   "outputs": [
    {
     "name": "stdout",
     "output_type": "stream",
     "text": [
      "                      precision    recall  f1-score   support\n",
      "\n",
      "       AddToPlaylist       1.00      1.00      1.00      1732\n",
      "      BookRestaurant       1.00      1.00      1.00      1757\n",
      "          GetWeather       1.00      1.00      1.00      1784\n",
      "           PlayMusic       0.99      1.00      1.00      1789\n",
      "            RateBook       1.00      1.00      1.00      1743\n",
      "  SearchCreativeWork       0.99      0.99      0.99      1774\n",
      "SearchScreeningEvent       1.00      0.99      1.00      1732\n",
      "\n",
      "            accuracy                           1.00     12311\n",
      "           macro avg       1.00      1.00      1.00     12311\n",
      "        weighted avg       1.00      1.00      1.00     12311\n",
      "\n"
     ]
    }
   ],
   "source": [
    "#performance_evaluation_train\n",
    "\n",
    "from sklearn.metrics import classification_report\n",
    "\n",
    "with tf.device('/cpu:0'):\n",
    "    prediction = y_encoder.inverse_transform(model.predict(train_padded))\n",
    "print(classification_report(train_data.intent, prediction))"
   ]
  },
  {
   "cell_type": "code",
   "execution_count": 36,
   "id": "8b0ceff4",
   "metadata": {},
   "outputs": [
    {
     "name": "stdout",
     "output_type": "stream",
     "text": [
      "                      precision    recall  f1-score   support\n",
      "\n",
      "       AddToPlaylist       0.99      0.99      0.99       310\n",
      "      BookRestaurant       1.00      0.99      0.99       316\n",
      "          GetWeather       0.99      0.99      0.99       316\n",
      "           PlayMusic       0.97      0.96      0.96       311\n",
      "            RateBook       1.00      1.00      1.00       313\n",
      "  SearchCreativeWork       0.92      0.95      0.93       280\n",
      "SearchScreeningEvent       0.98      0.97      0.97       327\n",
      "\n",
      "            accuracy                           0.98      2173\n",
      "           macro avg       0.98      0.98      0.98      2173\n",
      "        weighted avg       0.98      0.98      0.98      2173\n",
      "\n"
     ]
    }
   ],
   "source": [
    "#performance_evaluation_test\n",
    "\n",
    "from sklearn.metrics import classification_report\n",
    "\n",
    "with tf.device('/cpu:0'):\n",
    "    prediction_test = y_encoder.inverse_transform(model.predict(test_padded))\n",
    "print(classification_report(test_data.intent, prediction_test))"
   ]
  },
  {
   "cell_type": "code",
   "execution_count": 37,
   "id": "c8dfc582",
   "metadata": {
    "scrolled": true
   },
   "outputs": [
    {
     "data": {
      "text/plain": [
       "<AxesSubplot:>"
      ]
     },
     "execution_count": 37,
     "metadata": {},
     "output_type": "execute_result"
    },
    {
     "data": {
      "image/png": "[encoded data removed]",
      "text/plain": [
       "<Figure size 1800x1800 with 2 Axes>"
      ]
     },
     "metadata": {
      "needs_background": "light"
     },
     "output_type": "display_data"
    }
   ],
   "source": [
    "from sklearn.metrics import confusion_matrix\n",
    "import seaborn as sns\n",
    "import matplotlib.pyplot as plt\n",
    "\n",
    "cm = confusion_matrix(train_data.intent, prediction)\n",
    "\n",
    "fig, ax = plt.subplots(figsize=(25,25))\n",
    "sns.set(font_scale=0.5)\n",
    "sns.heatmap(cm, annot=True, linewidths=.5, ax=ax)"
   ]
  },
  {
   "cell_type": "code",
   "execution_count": 38,
   "id": "9a1110de",
   "metadata": {},
   "outputs": [
    {
     "data": {
      "text/plain": [
       "array([0.00115473, 0.00170746, 0.00280269, 0.00223589, 0.00057372,\n",
       "       0.00620068, 0.00692841])"
      ]
     },
     "execution_count": 38,
     "metadata": {},
     "output_type": "execute_result"
    }
   ],
   "source": [
    "incorr_fraction = 1 - np.diag(cm) / np.sum(cm, axis=1)\n",
    "\n",
    "incorr_fraction"
   ]
  },
  {
   "cell_type": "code",
   "execution_count": 39,
   "id": "2869647d",
   "metadata": {
    "scrolled": true
   },
   "outputs": [
    {
     "data": {
      "text/plain": [
       "Text(0, 0.5, 'Fraction of incorrect predictions')"
      ]
     },
     "execution_count": 39,
     "metadata": {},
     "output_type": "execute_result"
    },
    {
     "data": {
      "image/png": "[encoded data removed]",
      "text/plain": [
       "<Figure size 1800x1800 with 1 Axes>"
      ]
     },
     "metadata": {},
     "output_type": "display_data"
    }
   ],
   "source": [
    "incorr_fraction = 1 - np.diag(cm) / np.sum(cm, axis=1)\n",
    "\n",
    "fig, ax = plt.subplots(figsize=(25,25))\n",
    "\n",
    "plt.bar(np.arange(7), incorr_fraction)\n",
    "plt.xlabel('True Label')\n",
    "plt.ylabel('Fraction of incorrect predictions')"
   ]
  },
  {
   "cell_type": "code",
   "execution_count": 40,
   "id": "2370dc2c",
   "metadata": {},
   "outputs": [
    {
     "name": "stderr",
     "output_type": "stream",
     "text": [
      "WARNING:absl:Found untraced functions such as embedding_layer_call_fn, embedding_layer_call_and_return_conditional_losses, dropout_layer_call_fn, dropout_layer_call_and_return_conditional_losses, dense_layer_call_fn while saving (showing 5 of 18). These functions will not be directly callable after loading.\n"
     ]
    },
    {
     "name": "stdout",
     "output_type": "stream",
     "text": [
      "INFO:tensorflow:Assets written to: models/my_model_snips\\assets\n"
     ]
    },
    {
     "name": "stderr",
     "output_type": "stream",
     "text": [
      "INFO:tensorflow:Assets written to: models/my_model_snips\\assets\n"
     ]
    }
   ],
   "source": [
    "import keras\n",
    "import pickle\n",
    "import json\n",
    "\n",
    "from keras.models import save_model\n",
    "\n",
    "model.save('models/my_model_snips')\n",
    "\n",
    "with open('utils/classes_snips.pkl','wb') as file:\n",
    "   pickle.dump(classes,file)\n",
    "\n",
    "with open('utils/tokenizer_snips.pkl','wb') as file:\n",
    "   pickle.dump(tokenizer,file)\n",
    "\n",
    "with open('utils/label_encoder_snips.pkl','wb') as file:\n",
    "   pickle.dump(y_encoder,file)"
   ]
  },
  {
   "cell_type": "code",
   "execution_count": 41,
   "id": "cc515a3b",
   "metadata": {},
   "outputs": [],
   "source": [
    "# import keras\n",
    "# import pickle\n",
    "\n",
    "# model = keras.models.load_model('models/my_model')\n",
    "\n",
    "# with open('utils/classes.pkl','rb') as file:\n",
    "#   classes = pickle.load(file)\n",
    "\n",
    "# with open('utils/tokenizer.pkl','rb') as file:\n",
    "#   tokenizer = pickle.load(file)\n",
    "\n",
    "# with open('utils/label_encoder.pkl','rb') as file:\n",
    "#   y_encoder = pickle.load(file)"
   ]
  },
  {
   "cell_type": "code",
   "execution_count": null,
   "id": "8e663698",
   "metadata": {},
   "outputs": [],
   "source": []
  }
 ],
 "metadata": {
  "kernelspec": {
   "display_name": "Python 3 (ipykernel)",
   "language": "python",
   "name": "python3"
  },
  "language_info": {
   "codemirror_mode": {
    "name": "ipython",
    "version": 3
   },
   "file_extension": ".py",
   "mimetype": "text/x-python",
   "name": "python",
   "nbconvert_exporter": "python",
   "pygments_lexer": "ipython3",
   "version": "3.9.12"
  }
 },
 "nbformat": 4,
 "nbformat_minor": 5
}
