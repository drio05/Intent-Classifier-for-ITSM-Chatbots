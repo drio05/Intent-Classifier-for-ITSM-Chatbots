{
 "cells": [
  {
   "cell_type": "code",
   "execution_count": 1,
   "id": "5362186f",
   "metadata": {},
   "outputs": [],
   "source": [
    "import numpy as np\n",
    "from keras_preprocessing.sequence import pad_sequences\n",
    "class IntentClassifier:\n",
    "    def __init__(self,classes,model,tokenizer,label_encoder):\n",
    "        self.classes = classes\n",
    "        self.classifier = model\n",
    "        self.tokenizer = tokenizer\n",
    "        self.label_encoder = label_encoder\n",
    "\n",
    "    def get_intent(self,text):\n",
    "        self.text = [text]\n",
    "        self.test_keras = self.tokenizer.texts_to_sequences(self.text)\n",
    "        self.test_keras_sequence = pad_sequences(self.test_keras, maxlen=16, padding='post')\n",
    "        self.pred = self.classifier.predict(self.test_keras_sequence)\n",
    "        return self.label_encoder.inverse_transform(np.argmax(self.pred,1))[0]"
   ]
  },
  {
   "cell_type": "code",
   "execution_count": 2,
   "id": "2bcd545d",
   "metadata": {},
   "outputs": [],
   "source": [
    "import keras\n",
    "import pickle\n",
    "\n",
    "model = keras.models.load_model('models/my_model')\n",
    "\n",
    "with open('utils/classes.pkl','rb') as file:\n",
    "  classes = pickle.load(file)\n",
    "\n",
    "with open('utils/tokenizer.pkl','rb') as file:\n",
    "  tokenizer = pickle.load(file)\n",
    "\n",
    "with open('utils/label_encoder.pkl','rb') as file:\n",
    "  label_encoder = pickle.load(file)"
   ]
  },
  {
   "cell_type": "code",
   "execution_count": 7,
   "id": "f16c21d8",
   "metadata": {},
   "outputs": [
    {
     "name": "stdout",
     "output_type": "stream",
     "text": [
      "1/1 [==============================] - 0s 46ms/step\n",
      "repeat\n"
     ]
    }
   ],
   "source": [
    "nlu = IntentClassifier(classes,model,tokenizer,label_encoder)\n",
    "print(nlu.get_intent(\"shot\"))"
   ]
  },
  {
   "cell_type": "code",
   "execution_count": null,
   "id": "bab8dbe6",
   "metadata": {},
   "outputs": [],
   "source": []
  }
 ],
 "metadata": {
  "kernelspec": {
   "display_name": "Python 3 (ipykernel)",
   "language": "python",
   "name": "python3"
  },
  "language_info": {
   "codemirror_mode": {
    "name": "ipython",
    "version": 3
   },
   "file_extension": ".py",
   "mimetype": "text/x-python",
   "name": "python",
   "nbconvert_exporter": "python",
   "pygments_lexer": "ipython3",
   "version": "3.9.12"
  }
 },
 "nbformat": 4,
 "nbformat_minor": 5
}
