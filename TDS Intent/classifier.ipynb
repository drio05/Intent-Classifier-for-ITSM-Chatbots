{
 "cells": [
  {
   "cell_type": "code",
   "execution_count": 1,
   "id": "ebe4087b",
   "metadata": {},
   "outputs": [
    {
     "name": "stdout",
     "output_type": "stream",
     "text": [
      "Num GPUs Available:  1\n"
     ]
    }
   ],
   "source": [
    "import tensorflow as tf\n",
    "print(\"Num GPUs Available: \", len(tf.config.list_physical_devices('GPU')))"
   ]
  },
  {
   "cell_type": "code",
   "execution_count": 2,
   "id": "071cad32",
   "metadata": {},
   "outputs": [],
   "source": [
    "# import wget\n",
    "# url = 'https://raw.githubusercontent.com/clinc/oos-eval/master/data/data_full.json'\n",
    "# wget.download(url)"
   ]
  },
  {
   "cell_type": "code",
   "execution_count": 49,
   "id": "b02a4ab7",
   "metadata": {},
   "outputs": [],
   "source": [
    "import numpy as np\n",
    "import json\n",
    "# Loading json data\n",
    "with open('data_full.json') as file:\n",
    "  data = json.loads(file.read())\n",
    "\n",
    "# Loading out-of-scope intent data\n",
    "val_oos = np.array(data['oos_val'])\n",
    "train_oos = np.array(data['oos_train'])\n",
    "test_oos = np.array(data['oos_test'])\n",
    "\n",
    "# Loading other intents data\n",
    "val_others = np.array(data['val'])\n",
    "train_others = np.array(data['train'])\n",
    "test_others = np.array(data['test'])\n",
    "\n",
    "# Merging out-of-scope and other intent data\n",
    "val = np.concatenate([val_oos,val_others])\n",
    "train = np.concatenate([train_oos,train_others])\n",
    "test = np.concatenate([test_oos,test_others])\n",
    "data = np.concatenate([train,test,val])\n",
    "data = data.T\n",
    "\n",
    "text = data[0]\n",
    "labels = data[1]"
   ]
  },
  {
   "cell_type": "code",
   "execution_count": 50,
   "id": "4add7a06",
   "metadata": {
    "scrolled": false
   },
   "outputs": [
    {
     "data": {
      "text/plain": [
       "array(['how much is an overdraft fee for bank',\n",
       "       'why are exponents preformed before multiplication in the order of operations',\n",
       "       'what size wipers does this car take', ...,\n",
       "       \"do you know why my card was declined at target i can't figure out why\",\n",
       "       \"i can't figure out why my card was declined at target\",\n",
       "       \"i was just at target and they declined my card and i can't understand why\"],\n",
       "      dtype='<U136')"
      ]
     },
     "execution_count": 50,
     "metadata": {},
     "output_type": "execute_result"
    }
   ],
   "source": [
    "text"
   ]
  },
  {
   "cell_type": "code",
   "execution_count": 51,
   "id": "a4277a08",
   "metadata": {},
   "outputs": [],
   "source": [
    "label_list = set(labels)"
   ]
  },
  {
   "cell_type": "code",
   "execution_count": 52,
   "id": "9b693084",
   "metadata": {},
   "outputs": [
    {
     "data": {
      "text/plain": [
       "{'accept_reservations',\n",
       " 'account_blocked',\n",
       " 'alarm',\n",
       " 'application_status',\n",
       " 'apr',\n",
       " 'are_you_a_bot',\n",
       " 'balance',\n",
       " 'bill_balance',\n",
       " 'bill_due',\n",
       " 'book_flight',\n",
       " 'book_hotel',\n",
       " 'calculator',\n",
       " 'calendar',\n",
       " 'calendar_update',\n",
       " 'calories',\n",
       " 'cancel',\n",
       " 'cancel_reservation',\n",
       " 'car_rental',\n",
       " 'card_declined',\n",
       " 'carry_on',\n",
       " 'change_accent',\n",
       " 'change_ai_name',\n",
       " 'change_language',\n",
       " 'change_speed',\n",
       " 'change_user_name',\n",
       " 'change_volume',\n",
       " 'confirm_reservation',\n",
       " 'cook_time',\n",
       " 'credit_limit',\n",
       " 'credit_limit_change',\n",
       " 'credit_score',\n",
       " 'current_location',\n",
       " 'damaged_card',\n",
       " 'date',\n",
       " 'definition',\n",
       " 'direct_deposit',\n",
       " 'directions',\n",
       " 'distance',\n",
       " 'do_you_have_pets',\n",
       " 'exchange_rate',\n",
       " 'expiration_date',\n",
       " 'find_phone',\n",
       " 'flight_status',\n",
       " 'flip_coin',\n",
       " 'food_last',\n",
       " 'freeze_account',\n",
       " 'fun_fact',\n",
       " 'gas',\n",
       " 'gas_type',\n",
       " 'goodbye',\n",
       " 'greeting',\n",
       " 'how_busy',\n",
       " 'how_old_are_you',\n",
       " 'improve_credit_score',\n",
       " 'income',\n",
       " 'ingredient_substitution',\n",
       " 'ingredients_list',\n",
       " 'insurance',\n",
       " 'insurance_change',\n",
       " 'interest_rate',\n",
       " 'international_fees',\n",
       " 'international_visa',\n",
       " 'jump_start',\n",
       " 'last_maintenance',\n",
       " 'lost_luggage',\n",
       " 'make_call',\n",
       " 'maybe',\n",
       " 'meal_suggestion',\n",
       " 'meaning_of_life',\n",
       " 'measurement_conversion',\n",
       " 'meeting_schedule',\n",
       " 'min_payment',\n",
       " 'mpg',\n",
       " 'new_card',\n",
       " 'next_holiday',\n",
       " 'next_song',\n",
       " 'no',\n",
       " 'nutrition_info',\n",
       " 'oil_change_how',\n",
       " 'oil_change_when',\n",
       " 'oos',\n",
       " 'order',\n",
       " 'order_checks',\n",
       " 'order_status',\n",
       " 'pay_bill',\n",
       " 'payday',\n",
       " 'pin_change',\n",
       " 'play_music',\n",
       " 'plug_type',\n",
       " 'pto_balance',\n",
       " 'pto_request',\n",
       " 'pto_request_status',\n",
       " 'pto_used',\n",
       " 'recipe',\n",
       " 'redeem_rewards',\n",
       " 'reminder',\n",
       " 'reminder_update',\n",
       " 'repeat',\n",
       " 'replacement_card_duration',\n",
       " 'report_fraud',\n",
       " 'report_lost_card',\n",
       " 'reset_settings',\n",
       " 'restaurant_reservation',\n",
       " 'restaurant_reviews',\n",
       " 'restaurant_suggestion',\n",
       " 'rewards_balance',\n",
       " 'roll_dice',\n",
       " 'rollover_401k',\n",
       " 'routing',\n",
       " 'schedule_maintenance',\n",
       " 'schedule_meeting',\n",
       " 'share_location',\n",
       " 'shopping_list',\n",
       " 'shopping_list_update',\n",
       " 'smart_home',\n",
       " 'spelling',\n",
       " 'spending_history',\n",
       " 'sync_device',\n",
       " 'taxes',\n",
       " 'tell_joke',\n",
       " 'text',\n",
       " 'thank_you',\n",
       " 'time',\n",
       " 'timer',\n",
       " 'timezone',\n",
       " 'tire_change',\n",
       " 'tire_pressure',\n",
       " 'todo_list',\n",
       " 'todo_list_update',\n",
       " 'traffic',\n",
       " 'transactions',\n",
       " 'transfer',\n",
       " 'translate',\n",
       " 'travel_alert',\n",
       " 'travel_notification',\n",
       " 'travel_suggestion',\n",
       " 'uber',\n",
       " 'update_playlist',\n",
       " 'user_name',\n",
       " 'vaccines',\n",
       " 'w2',\n",
       " 'weather',\n",
       " 'what_are_your_hobbies',\n",
       " 'what_can_i_ask_you',\n",
       " 'what_is_your_name',\n",
       " 'what_song',\n",
       " 'where_are_you_from',\n",
       " 'whisper_mode',\n",
       " 'who_do_you_work_for',\n",
       " 'who_made_you',\n",
       " 'yes'}"
      ]
     },
     "execution_count": 52,
     "metadata": {},
     "output_type": "execute_result"
    }
   ],
   "source": [
    "label_list"
   ]
  },
  {
   "cell_type": "code",
   "execution_count": 63,
   "id": "f0613662",
   "metadata": {},
   "outputs": [],
   "source": [
    "from sklearn.model_selection import train_test_split\n",
    "train_txt,test_txt,train_label,test_labels = train_test_split(text,labels,test_size = 0.15, random_state = 5)"
   ]
  },
  {
   "cell_type": "code",
   "execution_count": 64,
   "id": "c0d01c83",
   "metadata": {},
   "outputs": [],
   "source": [
    "from keras.preprocessing.text import Tokenizer\n",
    "from keras_preprocessing.sequence import pad_sequences\n",
    "max_num_words = 40000\n",
    "classes = np.unique(labels)\n",
    "\n",
    "tokenizer = Tokenizer(num_words=max_num_words)\n",
    "tokenizer.fit_on_texts(train_txt)\n",
    "word_index = tokenizer.word_index"
   ]
  },
  {
   "cell_type": "code",
   "execution_count": 65,
   "id": "575ef9dc",
   "metadata": {},
   "outputs": [],
   "source": [
    "ls=[]\n",
    "for c in train_txt:\n",
    "    ls.append(len(c.split()))\n",
    "maxLen=int(np.percentile(ls, 98))\n",
    "train_sequences = tokenizer.texts_to_sequences(train_txt)\n",
    "train_sequences = pad_sequences(train_sequences, maxlen=maxLen, padding='post')\n",
    "test_sequences = tokenizer.texts_to_sequences(test_txt)\n",
    "test_sequences = pad_sequences(test_sequences, maxlen=maxLen, padding='post')"
   ]
  },
  {
   "cell_type": "code",
   "execution_count": 66,
   "id": "a7a49e07",
   "metadata": {},
   "outputs": [],
   "source": [
    "from sklearn.preprocessing import OneHotEncoder,LabelEncoder\n",
    "\n",
    "label_encoder = LabelEncoder()\n",
    "integer_encoded = label_encoder.fit_transform(classes)\n",
    "\n",
    "onehot_encoder = OneHotEncoder(sparse=False)\n",
    "integer_encoded = integer_encoded.reshape(len(integer_encoded), 1)\n",
    "onehot_encoder.fit(integer_encoded)\n",
    "train_label_encoded = label_encoder.transform(train_label)\n",
    "train_label_encoded = train_label_encoded.reshape(len(train_label_encoded), 1)\n",
    "train_label = onehot_encoder.transform(train_label_encoded)\n",
    "test_labels_encoded = label_encoder.transform(test_labels)\n",
    "test_labels_encoded = test_labels_encoded.reshape(len(test_labels_encoded), 1)\n",
    "test_labels = onehot_encoder.transform(test_labels_encoded)"
   ]
  },
  {
   "cell_type": "code",
   "execution_count": 67,
   "id": "e1bffe60",
   "metadata": {
    "scrolled": true
   },
   "outputs": [],
   "source": [
    "# import wget\n",
    "# url ='https://www.dropbox.com/s/a247ju2qsczh0be/glove.6B.100d.txt?dl=1'\n",
    "# wget.download(url)"
   ]
  },
  {
   "cell_type": "code",
   "execution_count": 71,
   "id": "dc3e3071",
   "metadata": {},
   "outputs": [
    {
     "data": {
      "text/plain": [
       "(20145, 16)"
      ]
     },
     "execution_count": 71,
     "metadata": {},
     "output_type": "execute_result"
    }
   ],
   "source": [
    "train_sequences.shape"
   ]
  },
  {
   "cell_type": "code",
   "execution_count": 70,
   "id": "9820e3f1",
   "metadata": {},
   "outputs": [
    {
     "data": {
      "text/plain": [
       "(20145, 151)"
      ]
     },
     "execution_count": 70,
     "metadata": {},
     "output_type": "execute_result"
    }
   ],
   "source": [
    "train_label.shape"
   ]
  },
  {
   "cell_type": "code",
   "execution_count": 59,
   "id": "305034df",
   "metadata": {},
   "outputs": [
    {
     "data": {
      "text/plain": [
       "(151,)"
      ]
     },
     "execution_count": 59,
     "metadata": {},
     "output_type": "execute_result"
    }
   ],
   "source": [
    "classes.shape"
   ]
  },
  {
   "cell_type": "code",
   "execution_count": 8,
   "id": "f19a5fbf",
   "metadata": {},
   "outputs": [],
   "source": [
    "embeddings_index={}\n",
    "with open('glove.6B.100d.txt', encoding='utf8') as f:\n",
    "    for line in f:\n",
    "        values = line.split()\n",
    "        word = values[0]\n",
    "        coefs = np.asarray(values[1:], dtype='float32')\n",
    "        embeddings_index[word] = coefs"
   ]
  },
  {
   "cell_type": "code",
   "execution_count": 12,
   "id": "7054df8d",
   "metadata": {},
   "outputs": [],
   "source": [
    "all_embs = np.stack(embeddings_index.values())\n",
    "emb_mean,emb_std = all_embs.mean(), all_embs.std()\n",
    "num_words = min(max_num_words, len(word_index))+1\n",
    "embedding_dim=len(embeddings_index['the'])\n",
    "embedding_matrix = np.random.normal(emb_mean, emb_std, (num_words, embedding_dim))\n",
    "for word, i in word_index.items():\n",
    "    if i >= max_num_words:\n",
    "        break\n",
    "    embedding_vector = embeddings_index.get(word)\n",
    "    if embedding_vector is not None:\n",
    "        embedding_matrix[i] = embedding_vector"
   ]
  },
  {
   "cell_type": "code",
   "execution_count": 14,
   "id": "e2c411b9",
   "metadata": {},
   "outputs": [
    {
     "name": "stdout",
     "output_type": "stream",
     "text": [
      "WARNING:tensorflow:Layer lstm_6 will not use cuDNN kernels since it doesn't meet the criteria. It will use a generic GPU kernel as fallback when running on GPU.\n",
      "WARNING:tensorflow:Layer lstm_6 will not use cuDNN kernels since it doesn't meet the criteria. It will use a generic GPU kernel as fallback when running on GPU.\n",
      "WARNING:tensorflow:Layer lstm_6 will not use cuDNN kernels since it doesn't meet the criteria. It will use a generic GPU kernel as fallback when running on GPU.\n",
      "WARNING:tensorflow:Layer lstm_7 will not use cuDNN kernels since it doesn't meet the criteria. It will use a generic GPU kernel as fallback when running on GPU.\n"
     ]
    }
   ],
   "source": [
    "from tensorflow.python.keras.models import Sequential\n",
    "from keras.layers import Dense, Input, Dropout, LSTM, Activation, Bidirectional, Embedding\n",
    "model = Sequential()\n",
    "\n",
    "model.add(Embedding(num_words, 100, trainable=False, input_length=train_sequences.shape[1], weights=[embedding_matrix]))\n",
    "\n",
    "model.add(Bidirectional(LSTM(256, return_sequences=True, recurrent_dropout=0.1, dropout=0.1), 'concat'))\n",
    "model.add(Dropout(0.3))\n",
    "model.add(LSTM(256, return_sequences=False, recurrent_dropout=0.1, dropout=0.1))\n",
    "model.add(Dropout(0.3))\n",
    "model.add(Dense(50, activation='relu'))\n",
    "model.add(Dropout(0.3))\n",
    "model.add(Dense(classes.shape[0], activation='softmax'))\n",
    "\n",
    "\n",
    "model.compile(loss='categorical_crossentropy', optimizer='Nadam', metrics=['accuracy'])"
   ]
  },
  {
   "cell_type": "code",
   "execution_count": 13,
   "id": "f21e5075",
   "metadata": {},
   "outputs": [],
   "source": [
    "# history = model.fit(train_sequences, train_label, epochs = 5,\n",
    "#           batch_size = 64, shuffle=True,\n",
    "#           validation_data=[test_sequences, test_labels])"
   ]
  },
  {
   "cell_type": "code",
   "execution_count": 14,
   "id": "377e5fbd",
   "metadata": {
    "scrolled": true
   },
   "outputs": [
    {
     "name": "stdout",
     "output_type": "stream",
     "text": [
      "Epoch 1/20\n",
      "260/260 [==============================] - ETA: 0s - loss: 4.5917 - acc: 0.0576WARNING:tensorflow:Layers in a Sequential model should only have a single input tensor, but we receive a <class 'tuple'> input: (<tf.Tensor 'IteratorGetNext:0' shape=(None, 16) dtype=int32>, <tf.Tensor 'IteratorGetNext:1' shape=(None, 151) dtype=float32>)\n",
      "Consider rewriting this model with the Functional API.\n",
      "260/260 [==============================] - 60s 199ms/step - loss: 4.5917 - acc: 0.0576 - val_loss: 0.0000e+00 - val_acc: 0.0000e+00\n",
      "Epoch 2/20\n",
      "260/260 [==============================] - 52s 199ms/step - loss: 2.9847 - acc: 0.2360 - val_loss: 0.0000e+00 - val_acc: 0.0000e+00\n",
      "Epoch 3/20\n",
      "260/260 [==============================] - 52s 199ms/step - loss: 1.9421 - acc: 0.4559 - val_loss: 0.0000e+00 - val_acc: 0.0000e+00\n",
      "Epoch 4/20\n",
      "260/260 [==============================] - 52s 202ms/step - loss: 1.4088 - acc: 0.6014 - val_loss: 0.0000e+00 - val_acc: 0.0000e+00\n",
      "Epoch 5/20\n",
      "260/260 [==============================] - 53s 202ms/step - loss: 1.1065 - acc: 0.6867 - val_loss: 0.0000e+00 - val_acc: 0.0000e+00\n",
      "Epoch 6/20\n",
      "260/260 [==============================] - 53s 204ms/step - loss: 0.9117 - acc: 0.7406 - val_loss: 0.0000e+00 - val_acc: 0.0000e+00\n",
      "Epoch 7/20\n",
      "260/260 [==============================] - 53s 205ms/step - loss: 0.7505 - acc: 0.7895 - val_loss: 0.0000e+00 - val_acc: 0.0000e+00\n",
      "Epoch 8/20\n",
      "260/260 [==============================] - 54s 208ms/step - loss: 0.6716 - acc: 0.8137 - val_loss: 0.0000e+00 - val_acc: 0.0000e+00\n",
      "Epoch 9/20\n",
      "260/260 [==============================] - 54s 207ms/step - loss: 0.5928 - acc: 0.8338 - val_loss: 0.0000e+00 - val_acc: 0.0000e+00\n",
      "Epoch 10/20\n",
      "260/260 [==============================] - 52s 200ms/step - loss: 0.5128 - acc: 0.8555 - val_loss: 0.0000e+00 - val_acc: 0.0000e+00\n",
      "Epoch 11/20\n",
      "260/260 [==============================] - 52s 199ms/step - loss: 0.4623 - acc: 0.8729 - val_loss: 0.0000e+00 - val_acc: 0.0000e+00\n",
      "Epoch 12/20\n",
      "260/260 [==============================] - 53s 205ms/step - loss: 0.4281 - acc: 0.8819 - val_loss: 0.0000e+00 - val_acc: 0.0000e+00\n",
      "Epoch 13/20\n",
      "260/260 [==============================] - 52s 202ms/step - loss: 0.3793 - acc: 0.8920 - val_loss: 0.0000e+00 - val_acc: 0.0000e+00\n",
      "Epoch 14/20\n",
      "260/260 [==============================] - 52s 201ms/step - loss: 0.3330 - acc: 0.9080 - val_loss: 0.0000e+00 - val_acc: 0.0000e+00\n",
      "Epoch 15/20\n",
      "260/260 [==============================] - 55s 213ms/step - loss: 0.3215 - acc: 0.9109 - val_loss: 0.0000e+00 - val_acc: 0.0000e+00\n",
      "Epoch 16/20\n",
      "260/260 [==============================] - 55s 210ms/step - loss: 0.3080 - acc: 0.9177 - val_loss: 0.0000e+00 - val_acc: 0.0000e+00\n",
      "Epoch 17/20\n",
      "260/260 [==============================] - 54s 206ms/step - loss: 0.2819 - acc: 0.9218 - val_loss: 0.0000e+00 - val_acc: 0.0000e+00\n",
      "Epoch 18/20\n",
      "260/260 [==============================] - 56s 214ms/step - loss: 0.2730 - acc: 0.9238 - val_loss: 0.0000e+00 - val_acc: 0.0000e+00\n",
      "Epoch 19/20\n",
      "260/260 [==============================] - 56s 217ms/step - loss: 0.2382 - acc: 0.9358 - val_loss: 0.0000e+00 - val_acc: 0.0000e+00\n",
      "Epoch 20/20\n",
      "260/260 [==============================] - 58s 223ms/step - loss: 0.2274 - acc: 0.9373 - val_loss: 0.0000e+00 - val_acc: 0.0000e+00\n"
     ]
    }
   ],
   "source": [
    "with tf.device('/cpu:0'):\n",
    "    history = model.fit(train_sequences, train_label, epochs = 20,\n",
    "          batch_size = 64, shuffle=True,\n",
    "          validation_split = 0.15)\n",
    "#with tf.device('/device:GPU:0'):"
   ]
  },
  {
   "cell_type": "code",
   "execution_count": 15,
   "id": "7f270cfa",
   "metadata": {},
   "outputs": [
    {
     "data": {
      "image/png": "[encoded data removed]",
      "text/plain": [
       "<Figure size 432x288 with 1 Axes>"
      ]
     },
     "metadata": {
      "needs_background": "light"
     },
     "output_type": "display_data"
    }
   ],
   "source": [
    "import matplotlib.pyplot as plt\n",
    "%matplotlib inline\n",
    "plt.plot(history.history['acc'])\n",
    "plt.plot(history.history['val_acc'])\n",
    "plt.title('Model Accuracy')\n",
    "plt.ylabel('Accuracy')\n",
    "plt.xlabel('Epoch')\n",
    "plt.legend(['Train', 'Validation'], loc='upper left')\n",
    "plt.show()"
   ]
  },
  {
   "cell_type": "code",
   "execution_count": 16,
   "id": "cb6cb54f",
   "metadata": {},
   "outputs": [
    {
     "data": {
      "image/png": "[encoded data removed]",
      "text/plain": [
       "<Figure size 432x288 with 1 Axes>"
      ]
     },
     "metadata": {
      "needs_background": "light"
     },
     "output_type": "display_data"
    }
   ],
   "source": [
    "import matplotlib.pyplot as plt\n",
    "%matplotlib inline\n",
    "plt.plot(history.history['loss'])\n",
    "plt.plot(history.history['val_loss'])\n",
    "plt.title('Model Loss')\n",
    "plt.ylabel('Loss')\n",
    "plt.xlabel('Epoch')\n",
    "plt.legend(['Train', 'Validation'], loc='upper left')\n",
    "plt.show()"
   ]
  },
  {
   "cell_type": "code",
   "execution_count": 17,
   "id": "e537322c",
   "metadata": {
    "scrolled": true
   },
   "outputs": [
    {
     "name": "stderr",
     "output_type": "stream",
     "text": [
      "WARNING:absl:Found untraced functions such as embedding_layer_call_fn, embedding_layer_call_and_return_conditional_losses, dropout_layer_call_fn, dropout_layer_call_and_return_conditional_losses, dropout_1_layer_call_fn while saving (showing 5 of 12). These functions will not be directly callable after loading.\n"
     ]
    },
    {
     "name": "stdout",
     "output_type": "stream",
     "text": [
      "INFO:tensorflow:Assets written to: models/my_model\\assets\n"
     ]
    },
    {
     "name": "stderr",
     "output_type": "stream",
     "text": [
      "INFO:tensorflow:Assets written to: models/my_model\\assets\n"
     ]
    }
   ],
   "source": [
    "import keras\n",
    "import pickle\n",
    "import json\n",
    "\n",
    "from keras.models import save_model\n",
    "\n",
    "model.save('models/my_model')\n",
    "\n",
    "with open('utils/classes.pkl','wb') as file:\n",
    "   pickle.dump(classes,file)\n",
    "\n",
    "with open('utils/tokenizer.pkl','wb') as file:\n",
    "   pickle.dump(tokenizer,file)\n",
    "\n",
    "with open('utils/label_encoder.pkl','wb') as file:\n",
    "   pickle.dump(label_encoder,file)"
   ]
  },
  {
   "cell_type": "code",
   "execution_count": null,
   "id": "65c96954",
   "metadata": {},
   "outputs": [],
   "source": []
  }
 ],
 "metadata": {
  "kernelspec": {
   "display_name": "Python 3 (ipykernel)",
   "language": "python",
   "name": "python3"
  },
  "language_info": {
   "codemirror_mode": {
    "name": "ipython",
    "version": 3
   },
   "file_extension": ".py",
   "mimetype": "text/x-python",
   "name": "python",
   "nbconvert_exporter": "python",
   "pygments_lexer": "ipython3",
   "version": "3.9.12"
  }
 },
 "nbformat": 4,
 "nbformat_minor": 5
}
